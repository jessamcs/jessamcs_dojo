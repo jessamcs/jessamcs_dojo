{
  "nbformat": 4,
  "nbformat_minor": 0,
  "metadata": {
    "colab": {
      "name": "InterviewQ_ML.ipynb",
      "provenance": [],
      "collapsed_sections": [],
      "authorship_tag": "ABX9TyNmrlKmcO52Xy7xXzE04jnA",
      "include_colab_link": true
    },
    "kernelspec": {
      "name": "python3",
      "display_name": "Python 3"
    },
    "language_info": {
      "name": "python"
    }
  },
  "cells": [
    {
      "cell_type": "markdown",
      "metadata": {
        "id": "view-in-github",
        "colab_type": "text"
      },
      "source": [
        "<a href=\"https://colab.research.google.com/github/jessamcs/jessamcs_dojo/blob/main/InterviewQ_ML.ipynb\" target=\"_parent\"><img src=\"https://colab.research.google.com/assets/colab-badge.svg\" alt=\"Open In Colab\"/></a>"
      ]
    },
    {
      "cell_type": "markdown",
      "source": [
        "Optional - Interview Questions; Introduction to Machine Learning (Week 5)"
      ],
      "metadata": {
        "id": "qYsnQ252IBKj"
      }
    },
    {
      "cell_type": "markdown",
      "source": [
        "1. What is the difference between supervised and unsupervised learning? \n",
        "- SUPERVISED LEARNING allows you to collect or produce data output while UNSUPERVISED LEARNING is another machine learning method in which patterns inferred from the unlabeled input data. It finds data on its own pattern."
      ],
      "metadata": {
        "id": "1B3qSTg8IJYp"
      }
    },
    {
      "cell_type": "markdown",
      "source": [
        "2. What is the difference between regression and classification?\n",
        "- CLASSIFICATION is the process of discovering or identifying a design or role, which helps to separate them into several categorical classes, discrete values, etc. while REGRESSION is the method of discovering a function or a model for separating the real values data instead of using distinct values or groups. "
      ],
      "metadata": {
        "id": "WY8rHgegI19v"
      }
    },
    {
      "cell_type": "markdown",
      "source": [
        "3. What is a target in supervised machine learning?\n",
        "- The feature of a dataset about which you want to gain a deeper understanding. "
      ],
      "metadata": {
        "id": "xOjIRN9hgdOY"
      }
    },
    {
      "cell_type": "markdown",
      "source": [
        "4. Explain the purpose of a train-test split?\n",
        "- for evaluating the performance of a machine learning algorithm. "
      ],
      "metadata": {
        "id": "3Uwg_73suYHg"
      }
    },
    {
      "cell_type": "markdown",
      "source": [
        "5. What is machine learning?\n",
        "-  branch of artificial intelligence based on the idea that systems can learn from data, identify patterns and make decisions with minimal human intervention."
      ],
      "metadata": {
        "id": "7cxcTwaADkT9"
      }
    },
    {
      "cell_type": "code",
      "source": [
        "6. What are some common applications of machine learning?\n",
        "- Image or Speech recognition, GPS support app"
      ],
      "metadata": {
        "id": "CT61g9jzGQoV"
      },
      "execution_count": null,
      "outputs": []
    },
    {
      "cell_type": "markdown",
      "source": [
        "7. What are benefits of using a pipeline?\n",
        "- Easy to fix bugs and Helpful in iterative hyperparameter tuning and cross-validation evaluation."
      ],
      "metadata": {
        "id": "A6he7gmcIcet"
      }
    },
    {
      "cell_type": "markdown",
      "source": [
        "8. What is data leakage and why is it a problem?\n",
        "- Data leakage in machine learning happens when the data that we are used to training a machine learning algorithm is having the information which the model is trying to predict, this results in unreliable and bad prediction outcomes after model deployment."
      ],
      "metadata": {
        "id": "AHViDwdZRccr"
      }
    },
    {
      "cell_type": "markdown",
      "source": [
        "9. What is meant by \"fitting\" a model?\n",
        "- is a measure of how well a machine learning model generalizes to similar data to that on which it was trained."
      ],
      "metadata": {
        "id": "UwYo1gDjIcmd"
      }
    },
    {
      "cell_type": "markdown",
      "source": [
        "10. Describe the essential steps to pre-processing data for machine learning.\n",
        "- Data quality assessment\n",
        "- Data cleaning\n",
        "- Data transformation\n",
        "- Data reduction"
      ],
      "metadata": {
        "id": "PTVP8Un6Wuqa"
      }
    }
  ]
}