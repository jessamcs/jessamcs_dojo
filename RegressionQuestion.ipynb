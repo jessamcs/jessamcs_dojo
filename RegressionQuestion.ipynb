{
  "nbformat": 4,
  "nbformat_minor": 0,
  "metadata": {
    "colab": {
      "name": "RegressionQuestion.ipynb",
      "provenance": [],
      "collapsed_sections": [],
      "authorship_tag": "ABX9TyPvpqH4xEdUqIdFM9KKKyNR",
      "include_colab_link": true
    },
    "kernelspec": {
      "name": "python3",
      "display_name": "Python 3"
    },
    "language_info": {
      "name": "python"
    }
  },
  "cells": [
    {
      "cell_type": "markdown",
      "metadata": {
        "id": "view-in-github",
        "colab_type": "text"
      },
      "source": [
        "<a href=\"https://colab.research.google.com/github/jessamcs/jessamcs_dojo/blob/main/RegressionQuestion.ipynb\" target=\"_parent\"><img src=\"https://colab.research.google.com/assets/colab-badge.svg\" alt=\"Open In Colab\"/></a>"
      ]
    },
    {
      "cell_type": "markdown",
      "source": [
        "Optional - Interview Questions"
      ],
      "metadata": {
        "id": "sLnbQai9Vk2L"
      }
    },
    {
      "cell_type": "markdown",
      "source": [
        "1. How do decision trees work?\n",
        "- Decision trees are supervised learning algorithms used for both, classification and regression tasks where we will concentrate on classification in this first part of our decision tree tutorial.\n",
        "-Decision trees are assigned to the information based learning algorithms which use different measures of information gain for learning. We can use decision trees for issues where we have continuous but also categorical input and target features."
      ],
      "metadata": {
        "id": "Sx8g1nZYVsfb"
      }
    },
    {
      "cell_type": "markdown",
      "source": [
        "2. What is the difference between a decision tree and a random forest? \n",
        "-A DECISION TREE is built on an entire dataset, using all the features/variables of interest, whereas a RANDOM FOREST randomly selects observations/rows and specific features/variables to build multiple decision trees from and then averages the results."
      ],
      "metadata": {
        "id": "Gsll4ubdWfNm"
      }
    },
    {
      "cell_type": "markdown",
      "source": [
        "3. What is bootstrapping?\n",
        "-The bootstrap method is a resampling technique used to estimate statistics on a population by sampling a dataset with replacement. "
      ],
      "metadata": {
        "id": "EwBWEq6oWyeu"
      }
    },
    {
      "cell_type": "markdown",
      "source": [
        "4. What is bagging?\n",
        "-  (classifier) is an ensemble meta-estimator that fits base classifiers each on random subsets of the original dataset and then aggregate their individual predictions (either by voting or by averaging) to form a final prediction."
      ],
      "metadata": {
        "id": "qMJkXDd_iAP9"
      }
    },
    {
      "cell_type": "markdown",
      "source": [
        "5. Why might a random forest be better than a decision tree?\n",
        "- The decision tree has more possibility of overfitting whereas random forest reduces the risk of it because it uses multiple decision trees"
      ],
      "metadata": {
        "id": "-mwWjZP1ihcK"
      }
    },
    {
      "cell_type": "markdown",
      "source": [
        "6. What is training data and what is it used for?\n",
        "- Training data is the data you use to train an algorithm or machine learning model to predict the outcome you design your model to predict."
      ],
      "metadata": {
        "id": "Z0HyeJv8iwBS"
      }
    },
    {
      "cell_type": "markdown",
      "source": [
        "7. What is a test set and why use one?\n",
        "- Test data is used to measure the performance, such as accuracy or efficiency, of the algorithm you are using to train the machine."
      ],
      "metadata": {
        "id": "GR229y6kiyv6"
      }
    },
    {
      "cell_type": "markdown",
      "source": [
        "8. What is cross validation and why is it useful?\n",
        "- It is a method for assessing how the results of a statistical analysis will generalize to an independent data set."
      ],
      "metadata": {
        "id": "eCWEsc5bi1BD"
      }
    },
    {
      "cell_type": "markdown",
      "source": [
        "9. What are the main hyperparameters that you can tune for decision trees?\n",
        "- Easy to understand and interpret.\n",
        "- Can handle both numerical and categorical data.\n",
        "- Requires little or no preprocessing such as normalization or dummy encoding."
      ],
      "metadata": {
        "id": "xFhIO6nKi3rK"
      }
    },
    {
      "cell_type": "markdown",
      "source": [
        "10. What are some ways to reduce overfitting with decision trees?\n",
        "\n",
        "- Pre-pruning that stop growing the tree earlier, before it perfectly classifies the training set.\n",
        "- Post-pruning that allows the tree to perfectly classify the training set, and then post prune the tree."
      ],
      "metadata": {
        "id": "_N16ID5-i5_i"
      }
    }
  ]
}