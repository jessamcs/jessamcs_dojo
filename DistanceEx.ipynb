{
  "nbformat": 4,
  "nbformat_minor": 0,
  "metadata": {
    "colab": {
      "name": "DistanceEx.ipynb",
      "provenance": [],
      "collapsed_sections": [],
      "authorship_tag": "ABX9TyNXGKBDYSxysPOHbL+iUVRW",
      "include_colab_link": true
    },
    "kernelspec": {
      "name": "python3",
      "display_name": "Python 3"
    },
    "language_info": {
      "name": "python"
    }
  },
  "cells": [
    {
      "cell_type": "markdown",
      "metadata": {
        "id": "view-in-github",
        "colab_type": "text"
      },
      "source": [
        "<a href=\"https://colab.research.google.com/github/jessamcs/jessamcs_dojo/blob/main/DistanceEx.ipynb\" target=\"_parent\"><img src=\"https://colab.research.google.com/assets/colab-badge.svg\" alt=\"Open In Colab\"/></a>"
      ]
    },
    {
      "cell_type": "code",
      "metadata": {
        "colab": {
          "base_uri": "https://localhost:8080/"
        },
        "id": "jrEIboBM2-uJ",
        "outputId": "815c3d7f-d80f-4b0c-867c-40d89204a779"
      },
      "source": [
        "#Distance and Time EXERCISES\n",
        "# 1) Import the numby library\n",
        "import numpy as np\n",
        "\n",
        "# 2)  Create a numpy array called \"distance\" that includes the following distances (in meters): 100, 200, 400, 800, 1500, 3000, 5000, 10000\n",
        "distance = [100, 200, 400, 800, 1500, 3000, 5000, 10000]\n",
        "print (distance)"
      ],
      "execution_count": 10,
      "outputs": [
        {
          "output_type": "stream",
          "name": "stdout",
          "text": [
            "[100, 200, 400, 800, 1500, 3000, 5000, 10000]\n"
          ]
        }
      ]
    },
    {
      "cell_type": "code",
      "metadata": {
        "colab": {
          "base_uri": "https://localhost:8080/"
        },
        "id": "r3OOmJZs344L",
        "outputId": "828a172c-c230-47b5-d505-e6eb3a1ac60c"
      },
      "source": [
        "# 3) Use the min() and max() functions to find the minimum and maximum distances\n",
        "\n",
        "distance_array=np.array(distance)\n",
        "print(distance_array.max())\n",
        "print(distance_array.min())\n",
        "\n",
        "#4) To find the average distance, use the np.mean() function\n",
        "\n",
        "print(distance_array.mean())"
      ],
      "execution_count": 11,
      "outputs": [
        {
          "output_type": "stream",
          "name": "stdout",
          "text": [
            "10000\n",
            "100\n",
            "2625.0\n"
          ]
        }
      ]
    },
    {
      "cell_type": "code",
      "metadata": {
        "colab": {
          "base_uri": "https://localhost:8080/"
        },
        "id": "_9F2Ge2H5Ilw",
        "outputId": "7c320b00-077f-400e-d45f-87d69f53096d"
      },
      "source": [
        "#5) use the sum() function to find the total distance\n",
        "print(distance_array.sum())"
      ],
      "execution_count": 12,
      "outputs": [
        {
          "output_type": "stream",
          "name": "stdout",
          "text": [
            "21000\n"
          ]
        }
      ]
    },
    {
      "cell_type": "code",
      "metadata": {
        "colab": {
          "base_uri": "https://localhost:8080/"
        },
        "id": "fKP2XB865lXG",
        "outputId": "26a9a978-8702-43f6-b0c9-84aac11c96d5"
      },
      "source": [
        "#6) Another valuable function is the cumsum() function which outputs the cumulative sum...notice the output will be 100, 300, 700 as it adds each new distance\n",
        "print(distance_array.cumsum())"
      ],
      "execution_count": 13,
      "outputs": [
        {
          "output_type": "stream",
          "name": "stdout",
          "text": [
            "[  100   300   700  1500  3000  6000 11000 21000]\n"
          ]
        }
      ]
    },
    {
      "cell_type": "code",
      "metadata": {
        "colab": {
          "base_uri": "https://localhost:8080/"
        },
        "id": "ORD05KLW5uCz",
        "outputId": "008d9b35-a543-4aa3-d1e6-d84c8c970d53"
      },
      "source": [
        "# 7) NP.ROUND\n",
        "print(distance_array.round())"
      ],
      "execution_count": 14,
      "outputs": [
        {
          "output_type": "stream",
          "name": "stdout",
          "text": [
            "[  100   200   400   800  1500  3000  5000 10000]\n"
          ]
        }
      ]
    },
    {
      "cell_type": "code",
      "metadata": {
        "colab": {
          "base_uri": "https://localhost:8080/"
        },
        "id": "EhmZhiid55Ih",
        "outputId": "30f4f97f-583c-4361-d645-7fde70d55b2d"
      },
      "source": [
        "# 8) Time\n",
        "time = [10.62, 21.34, 48.25, 113.43, 233.96, 506.53, 866.17, 1757.45]\n",
        "time_array = (np.array(time))\n",
        "print(time)"
      ],
      "execution_count": 15,
      "outputs": [
        {
          "output_type": "stream",
          "name": "stdout",
          "text": [
            "[10.62, 21.34, 48.25, 113.43, 233.96, 506.53, 866.17, 1757.45]\n"
          ]
        }
      ]
    },
    {
      "cell_type": "code",
      "metadata": {
        "colab": {
          "base_uri": "https://localhost:8080/"
        },
        "id": "d7IXQu6d6Z_y",
        "outputId": "3b5a45cd-985a-4807-d9e5-fffb3e7b5009"
      },
      "source": [
        "# 9) Olympics Record\n",
        "print (\"DISTANCE: \", distance)\n",
        "print (\"TIME:\", time)\n",
        "print (\"M /S: \", distance_array / time_array)"
      ],
      "execution_count": 17,
      "outputs": [
        {
          "output_type": "stream",
          "name": "stdout",
          "text": [
            "DISTANCE:  [100, 200, 400, 800, 1500, 3000, 5000, 10000]\n",
            "TIME: [10.62, 21.34, 48.25, 113.43, 233.96, 506.53, 866.17, 1757.45]\n",
            "M /S:  [9.41619586 9.37207123 8.29015544 7.0528079  6.41135237 5.92265019\n",
            " 5.77253888 5.69006231]\n"
          ]
        }
      ]
    },
    {
      "cell_type": "code",
      "metadata": {
        "colab": {
          "base_uri": "https://localhost:8080/"
        },
        "id": "WOReBwd168nW",
        "outputId": "6e528f3d-45e2-4c38-b17a-2b77cceb0702"
      },
      "source": [
        "# 10) last question\n",
        "print(\"DISTANCE in meters: \", distance)\n",
        "print(\"TIME by Olympian:\", time)\n",
        "print(\"Olypian M /S: \", distance_array / time_array)\n",
        "print(\"\")\n",
        "MetersPerSec = 75 / 0.00062 / 60 / 60\n",
        "print(\"Cheetah by m/s:\", MetersPerSec)\n",
        "print(\"Distance by mtrs:\", distance)\n",
        "print(\"time by cheetah:\",  distance_array / MetersPerSec)"
      ],
      "execution_count": 21,
      "outputs": [
        {
          "output_type": "stream",
          "name": "stdout",
          "text": [
            "DISTANCE in meters:  [100, 200, 400, 800, 1500, 3000, 5000, 10000]\n",
            "TIME by Olympian: [10.62, 21.34, 48.25, 113.43, 233.96, 506.53, 866.17, 1757.45]\n",
            "Olypian M /S:  [9.41619586 9.37207123 8.29015544 7.0528079  6.41135237 5.92265019\n",
            " 5.77253888 5.69006231]\n",
            "\n",
            "Cheetah by m/s: 33.60215053763441\n",
            "Distance by mtrs: [100, 200, 400, 800, 1500, 3000, 5000, 10000]\n",
            "time by cheetah: [  2.976   5.952  11.904  23.808  44.64   89.28  148.8   297.6  ]\n"
          ]
        }
      ]
    }
  ]
}