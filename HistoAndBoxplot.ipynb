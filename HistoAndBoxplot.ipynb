{
  "nbformat": 4,
  "nbformat_minor": 0,
  "metadata": {
    "colab": {
      "name": "HistoAndBoxplot.ipynb",
      "provenance": [],
      "authorship_tag": "ABX9TyN0A3oAba6Pcn4rZnIJVlqk",
      "include_colab_link": true
    },
    "kernelspec": {
      "name": "python3",
      "display_name": "Python 3"
    },
    "language_info": {
      "name": "python"
    }
  },
  "cells": [
    {
      "cell_type": "markdown",
      "metadata": {
        "id": "view-in-github",
        "colab_type": "text"
      },
      "source": [
        "<a href=\"https://colab.research.google.com/github/jessamcs/jessamcs_dojo/blob/main/HistoAndBoxplot.ipynb\" target=\"_parent\"><img src=\"https://colab.research.google.com/assets/colab-badge.svg\" alt=\"Open In Colab\"/></a>"
      ]
    },
    {
      "cell_type": "code",
      "metadata": {
        "colab": {
          "base_uri": "https://localhost:8080/",
          "height": 258
        },
        "id": "ymaMMY4_GTMa",
        "outputId": "3b820819-6541-41af-a59d-80872c1e5697"
      },
      "source": [
        "import pandas as pd\n",
        "import matplotlib.pyplot as plt\n",
        "\n",
        "\n",
        "filename = '/content/catsvdogs.xlsx'\n",
        "\n",
        "df = pd.read_excel(filename)\n",
        "df.head()"
      ],
      "execution_count": 1,
      "outputs": [
        {
          "output_type": "execute_result",
          "data": {
            "text/html": [
              "<div>\n",
              "<style scoped>\n",
              "    .dataframe tbody tr th:only-of-type {\n",
              "        vertical-align: middle;\n",
              "    }\n",
              "\n",
              "    .dataframe tbody tr th {\n",
              "        vertical-align: top;\n",
              "    }\n",
              "\n",
              "    .dataframe thead th {\n",
              "        text-align: right;\n",
              "    }\n",
              "</style>\n",
              "<table border=\"1\" class=\"dataframe\">\n",
              "  <thead>\n",
              "    <tr style=\"text-align: right;\">\n",
              "      <th></th>\n",
              "      <th>Location</th>\n",
              "      <th>Number of Households (in 1000)</th>\n",
              "      <th>Percentage of households with pets</th>\n",
              "      <th>Number of Pet Households (in 1000)</th>\n",
              "      <th>Percentage of Dog Owners</th>\n",
              "      <th>Dog Owning Households (1000s)</th>\n",
              "      <th>Mean Number of Dogs per household</th>\n",
              "      <th>Dog Population (in 1000)</th>\n",
              "      <th>Percentage of Cat Owners</th>\n",
              "      <th>Cat Owning Households</th>\n",
              "      <th>Mean Number of Cats</th>\n",
              "      <th>Cat Population</th>\n",
              "    </tr>\n",
              "  </thead>\n",
              "  <tbody>\n",
              "    <tr>\n",
              "      <th>0</th>\n",
              "      <td>Alabama</td>\n",
              "      <td>1828</td>\n",
              "      <td>59.5</td>\n",
              "      <td>1088</td>\n",
              "      <td>44.1</td>\n",
              "      <td>807</td>\n",
              "      <td>1.7</td>\n",
              "      <td>1410</td>\n",
              "      <td>27.4</td>\n",
              "      <td>501</td>\n",
              "      <td>2.5</td>\n",
              "      <td>1252</td>\n",
              "    </tr>\n",
              "    <tr>\n",
              "      <th>1</th>\n",
              "      <td>Arizona</td>\n",
              "      <td>2515</td>\n",
              "      <td>59.5</td>\n",
              "      <td>1497</td>\n",
              "      <td>40.1</td>\n",
              "      <td>1008</td>\n",
              "      <td>1.8</td>\n",
              "      <td>1798</td>\n",
              "      <td>29.6</td>\n",
              "      <td>743</td>\n",
              "      <td>1.9</td>\n",
              "      <td>1438</td>\n",
              "    </tr>\n",
              "    <tr>\n",
              "      <th>2</th>\n",
              "      <td>Arkansas</td>\n",
              "      <td>1148</td>\n",
              "      <td>62.4</td>\n",
              "      <td>716</td>\n",
              "      <td>47.9</td>\n",
              "      <td>550</td>\n",
              "      <td>2.0</td>\n",
              "      <td>1097</td>\n",
              "      <td>30.6</td>\n",
              "      <td>351</td>\n",
              "      <td>2.3</td>\n",
              "      <td>810</td>\n",
              "    </tr>\n",
              "    <tr>\n",
              "      <th>3</th>\n",
              "      <td>California</td>\n",
              "      <td>12974</td>\n",
              "      <td>52.9</td>\n",
              "      <td>6865</td>\n",
              "      <td>32.8</td>\n",
              "      <td>4260</td>\n",
              "      <td>1.6</td>\n",
              "      <td>6687</td>\n",
              "      <td>28.3</td>\n",
              "      <td>3687</td>\n",
              "      <td>1.9</td>\n",
              "      <td>7118</td>\n",
              "    </tr>\n",
              "    <tr>\n",
              "      <th>4</th>\n",
              "      <td>Colorado</td>\n",
              "      <td>1986</td>\n",
              "      <td>61.3</td>\n",
              "      <td>1217</td>\n",
              "      <td>42.5</td>\n",
              "      <td>845</td>\n",
              "      <td>1.6</td>\n",
              "      <td>1349</td>\n",
              "      <td>32.3</td>\n",
              "      <td>642</td>\n",
              "      <td>1.9</td>\n",
              "      <td>1191</td>\n",
              "    </tr>\n",
              "  </tbody>\n",
              "</table>\n",
              "</div>"
            ],
            "text/plain": [
              "     Location  ...  Cat Population\n",
              "0     Alabama  ...            1252\n",
              "1     Arizona  ...            1438\n",
              "2    Arkansas  ...             810\n",
              "3  California  ...            7118\n",
              "4    Colorado  ...            1191\n",
              "\n",
              "[5 rows x 12 columns]"
            ]
          },
          "metadata": {},
          "execution_count": 1
        }
      ]
    },
    {
      "cell_type": "code",
      "metadata": {
        "colab": {
          "base_uri": "https://localhost:8080/",
          "height": 352
        },
        "id": "kolOQOoWGypn",
        "outputId": "317e8f43-5017-4058-c21a-30dda7fcbb49"
      },
      "source": [
        "#  Plot a histogram of the Percentage of Dog Owners.\n",
        "plt.style.use('seaborn')\n",
        "dog_filter = df.loc[:, 'Percentage of Dog Owners'] > 0\n",
        "df['Percentage of Dog Owners'].hist(bins = 7 , edgecolor='black')\n",
        "#plt.bar(dog_data, height, color=['yellow'])\n",
        "plt.xticks(rotation = 45)\n",
        "plt.ticklabel_format(useOffset=False, style='plain')"
      ],
      "execution_count": 2,
      "outputs": [
        {
          "output_type": "display_data",
          "data": {
            "image/png": "[encoded data removed]",
            "text/plain": [
              "<Figure size 576x396 with 1 Axes>"
            ]
          },
          "metadata": {}
        }
      ]
    },
    {
      "cell_type": "code",
      "metadata": {
        "colab": {
          "base_uri": "https://localhost:8080/",
          "height": 352
        },
        "id": "bjzsyq_kHP0_",
        "outputId": "e6d2477e-55b2-4aee-87e3-42575aa73cc5"
      },
      "source": [
        "# 2 //  Plot a histogram of the Percentage of Cat Owners.\n",
        "cat_filter = df.loc[:, 'Percentage of Cat Owners'] > 0\n",
        "df['Percentage of Cat Owners'].hist(bins = 15, edgecolor='black', color='orange')\n",
        "#plt.bar(cat_data, height, color=['yellow'])\n",
        "plt.xticks(rotation = 45)\n",
        "plt.ticklabel_format(useOffset=False, style='plain')"
      ],
      "execution_count": 4,
      "outputs": [
        {
          "output_type": "display_data",
          "data": {
            "image/png": "[encoded data removed]",
            "text/plain": [
              "<Figure size 576x396 with 1 Axes>"
            ]
          },
          "metadata": {}
        }
      ]
    },
    {
      "cell_type": "code",
      "metadata": {
        "id": "Qcx3xJs3HezQ"
      },
      "source": [
        "# 3// What can we see by comparing these two histograms? What information does this tell us?\n",
        "# ANSWER: THERE ARE MORE DOG OWNERS THAN CAT OWNERS"
      ],
      "execution_count": null,
      "outputs": []
    },
    {
      "cell_type": "code",
      "metadata": {
        "colab": {
          "base_uri": "https://localhost:8080/",
          "height": 361
        },
        "id": "i9FnrOoFHJHi",
        "outputId": "ffc563eb-6693-467f-9e42-fa866b44adfd"
      },
      "source": [
        "# Optional/Bonus: plot these two histograms on the same plot.\n",
        "df['Percentage of Dog Owners'].hist(bins = 7, edgecolor='black', alpha=0.8, label='Dog')\n",
        "df['Percentage of Cat Owners'].hist(bins = 15, edgecolor='black', alpha=0.8, label='Cat', color='orange')\n",
        "plt.xlabel('Percentage of Animal Owners')\n",
        "plt.ylabel('Çount')\n",
        "plt.legend(loc='upper right')\n",
        "plt.show()"
      ],
      "execution_count": 3,
      "outputs": [
        {
          "output_type": "display_data",
          "data": {
            "image/png": "[encoded data removed]",
            "text/plain": [
              "<Figure size 576x396 with 1 Axes>"
            ]
          },
          "metadata": {}
        }
      ]
    },
    {
      "cell_type": "code",
      "metadata": {
        "colab": {
          "base_uri": "https://localhost:8080/",
          "height": 607
        },
        "id": "a5A8tKJkHvhD",
        "outputId": "9780e718-cd43-471f-e115-91b7b739c678"
      },
      "source": [
        "# 4// Create two boxplots on the same plot: one of the mean number of cats per household and the other of the mean number of dogs.\n",
        "cats = df['Mean Number of Cats'].values\n",
        "dogs = df['Mean Number of Dogs per household'].values\n",
        "\n",
        "box_props = dict(alpha=0.5)\n",
        "\n",
        "plt.boxplot([cats, dogs], labels=['Cats','Dogs'], notch=True, widths=0.5, patch_artist=True, boxprops=box_props)"
      ],
      "execution_count": 5,
      "outputs": [
        {
          "output_type": "execute_result",
          "data": {
            "text/plain": [
              "{'boxes': [<matplotlib.patches.PathPatch at 0x7facf7048a10>,\n",
              "  <matplotlib.patches.PathPatch at 0x7facf7062310>],\n",
              " 'caps': [<matplotlib.lines.Line2D at 0x7facf7052fd0>,\n",
              "  <matplotlib.lines.Line2D at 0x7facf705a550>,\n",
              "  <matplotlib.lines.Line2D at 0x7facf706b3d0>,\n",
              "  <matplotlib.lines.Line2D at 0x7facf706b8d0>],\n",
              " 'fliers': [<matplotlib.lines.Line2D at 0x7facf7062050>,\n",
              "  <matplotlib.lines.Line2D at 0x7facf7072390>],\n",
              " 'means': [],\n",
              " 'medians': [<matplotlib.lines.Line2D at 0x7facf705aa90>,\n",
              "  <matplotlib.lines.Line2D at 0x7facf706be10>],\n",
              " 'whiskers': [<matplotlib.lines.Line2D at 0x7facf7052510>,\n",
              "  <matplotlib.lines.Line2D at 0x7facf7052a90>,\n",
              "  <matplotlib.lines.Line2D at 0x7facf7062850>,\n",
              "  <matplotlib.lines.Line2D at 0x7facf7062e50>]}"
            ]
          },
          "metadata": {},
          "execution_count": 5
        },
        {
          "output_type": "display_data",
          "data": {
            "image/png": "[encoded data removed]",
            "text/plain": [
              "<Figure size 576x396 with 1 Axes>"
            ]
          },
          "metadata": {}
        }
      ]
    },
    {
      "cell_type": "code",
      "metadata": {
        "id": "ggbJc_jNICAX"
      },
      "source": [
        "# 5// What can we see by comparing these two boxplots? What information does this tell us?\n",
        "# ANSWER: THERE ARE MORE CATS THAN DOGS."
      ],
      "execution_count": null,
      "outputs": []
    }
  ]
}